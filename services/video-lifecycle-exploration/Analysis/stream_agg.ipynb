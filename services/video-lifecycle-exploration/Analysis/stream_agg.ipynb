{
 "cells": [
  {
   "cell_type": "code",
   "execution_count": 27,
   "metadata": {},
   "outputs": [],
   "source": [
    "import pandas as pd\n",
    "from dotenv import load_dotenv\n",
    "import os\n",
    "import numpy as np\n",
    "from scipy.optimize import curve_fit\n",
    "\n",
    "from sqlalchemy import create_engine\n",
    "from sqlalchemy import text\n",
    "\n",
    "from matplotlib import pyplot as plt\n",
    "load_dotenv()\n",
    "\n",
    "user = os.environ.get(\"DB_USERNAME\")\n",
    "password = os.environ.get(\"DB_PASSWORD\")\n",
    "hostname = os.environ.get(\"DB_HOST\")\n",
    "database_name =  os.environ.get(\"DB_NAME\")\n",
    "port = os.environ.get(\"DB_PORT\")\n",
    "cluster = os.environ.get(\"DB_CLUSTER\")\n",
    "youtube_api_key = os.environ.get(\"YOUTUBE_API_KEY\")\n",
    "\n",
    "engine = create_engine(f'cockroachdb://{user}:{password}@{hostname}:{port}/{database_name}?sslmode=require&options=--cluster={cluster}')\n"
   ]
  },
  {
   "cell_type": "code",
   "execution_count": 30,
   "metadata": {},
   "outputs": [],
   "source": [
    "\n",
    "df = None\n",
    "with engine.connect() as conn:\n",
    "    df = pd.read_sql(\"SELECT * FROM LIVE_STREAMS\", conn)\n",
    "\n",
    "df = df.set_index(df[\"log_time\"].dt.tz_localize(\"UTC\").dt.tz_convert(\"US/Pacific\"))\n",
    "    \n",
    "df_aggreagtes = pd.DataFrame()\n",
    "df_aggreagtes[\"streamed_hours\"] = df.resample(\"1D\")[\"is_live\"].apply(lambda x: (x == True).sum() / 6)\n",
    "\n",
    "df_aggreagtes[\"utc_datetime\"] = df_aggreagtes.index\n",
    "\n",
    "df_aggreagtes[\"utc_datetime\"] = df_aggreagtes[\"utc_datetime\"].apply(lambda x: str(x)[:-6])\n"
   ]
  },
  {
   "cell_type": "code",
   "execution_count": 31,
   "metadata": {},
   "outputs": [
    {
     "name": "stdout",
     "output_type": "stream",
     "text": [
      "                           streamed_hours         utc_datetime\n",
      "log_time                                                      \n",
      "2022-03-28 00:00:00-07:00        3.333333  2022-03-28 00:00:00\n",
      "2022-03-29 00:00:00-07:00        5.333333  2022-03-29 00:00:00\n",
      "2022-03-30 00:00:00-07:00        6.333333  2022-03-30 00:00:00\n",
      "2022-03-31 00:00:00-07:00        4.166667  2022-03-31 00:00:00\n",
      "2022-04-01 00:00:00-07:00        0.000000  2022-04-01 00:00:00\n"
     ]
    }
   ],
   "source": [
    "print(df_aggreagtes.head())"
   ]
  },
  {
   "cell_type": "code",
   "execution_count": 33,
   "metadata": {},
   "outputs": [],
   "source": [
    "df_aggreagtes.to_csv(\"total_ludwig_hours.csv\")"
   ]
  },
  {
   "cell_type": "code",
   "execution_count": null,
   "metadata": {},
   "outputs": [],
   "source": []
  }
 ],
 "metadata": {
  "interpreter": {
   "hash": "31f2aee4e71d21fbe5cf8b01ff0e069b9275f58929596ceb00d14d90e3e16cd6"
  },
  "kernelspec": {
   "display_name": "Python 3.8.9 64-bit",
   "language": "python",
   "name": "python3"
  },
  "language_info": {
   "codemirror_mode": {
    "name": "ipython",
    "version": 3
   },
   "file_extension": ".py",
   "mimetype": "text/x-python",
   "name": "python",
   "nbconvert_exporter": "python",
   "pygments_lexer": "ipython3",
   "version": "3.8.9"
  },
  "orig_nbformat": 4
 },
 "nbformat": 4,
 "nbformat_minor": 2
}
