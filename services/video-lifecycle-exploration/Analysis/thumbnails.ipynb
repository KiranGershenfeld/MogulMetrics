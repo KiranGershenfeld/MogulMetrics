{
 "cells": [
  {
   "cell_type": "code",
   "execution_count": 1,
   "metadata": {},
   "outputs": [],
   "source": [
    "import pandas as pd\n",
    "from dotenv import load_dotenv\n",
    "import os\n",
    "import numpy as np\n",
    "from scipy.optimize import curve_fit\n",
    "from collections import Counter\n",
    "\n",
    "from sqlalchemy import create_engine\n",
    "from sqlalchemy import text\n",
    "\n",
    "from matplotlib import pyplot as plt\n",
    "load_dotenv()\n",
    "\n",
    "user = os.environ.get(\"DB_USERNAME\")\n",
    "password = os.environ.get(\"DB_PASSWORD\")\n",
    "hostname = os.environ.get(\"DB_HOST\")\n",
    "database_name =  os.environ.get(\"DB_NAME\")\n",
    "port = os.environ.get(\"DB_PORT\")\n",
    "cluster = os.environ.get(\"DB_CLUSTER\")\n",
    "youtube_api_key = os.environ.get(\"YOUTUBE_API_KEY\")\n",
    "\n",
    "engine = create_engine(f'cockroachdb://{user}:{password}@{hostname}:{port}/{database_name}?sslmode=require&options=--cluster={cluster}')"
   ]
  },
  {
   "cell_type": "code",
   "execution_count": 5,
   "metadata": {},
   "outputs": [],
   "source": [
    "\n",
    "query = \"\"\"\n",
    "    select *, RANK() OVER(PARTITION BY video_id, thumbnail_url order by record_timestamp desc)\n",
    "    from video_view_lifecycle vvl\n",
    "\"\"\"\n",
    "conn = engine.connect()\n",
    "df = pd.read_sql(query, \n",
    "                conn)"
   ]
  },
  {
   "cell_type": "code",
   "execution_count": 12,
   "metadata": {},
   "outputs": [
    {
     "data": {
      "text/plain": [
       "['https://i.ytimg.com/vi/0tnb1_q4e_Y/default.jpg',\n",
       " 'https://i.ytimg.com/vi/0tnb1_q4e_Y/default_live.jpg',\n",
       " 'https://i.ytimg.com/vi/5pCf27CdYcs/default.jpg',\n",
       " 'https://i.ytimg.com/vi/5pCf27CdYcs/default_live.jpg',\n",
       " 'https://i.ytimg.com/vi/9Xy7TAd85C4/default.jpg',\n",
       " 'https://i.ytimg.com/vi/9Xy7TAd85C4/default_live.jpg',\n",
       " 'https://i.ytimg.com/vi/HV3CbWm3jKU/default.jpg',\n",
       " 'https://i.ytimg.com/vi/HV3CbWm3jKU/default_live.jpg',\n",
       " 'https://i.ytimg.com/vi/KnhI9R3vaP0/default.jpg',\n",
       " 'https://i.ytimg.com/vi/KnhI9R3vaP0/default_live.jpg',\n",
       " 'https://i.ytimg.com/vi/MKd-zSmsdpk/default.jpg',\n",
       " 'https://i.ytimg.com/vi/MKd-zSmsdpk/default_live.jpg',\n",
       " 'https://i.ytimg.com/vi/NNhu2MHCnJQ/default.jpg',\n",
       " 'https://i.ytimg.com/vi/NNhu2MHCnJQ/default_live.jpg',\n",
       " 'https://i.ytimg.com/vi/PeVZzLzbeKA/default.jpg',\n",
       " 'https://i.ytimg.com/vi/PeVZzLzbeKA/default_live.jpg',\n",
       " 'https://i.ytimg.com/vi/Rn3jCaor2Zk/default.jpg',\n",
       " 'https://i.ytimg.com/vi/Rn3jCaor2Zk/default_live.jpg',\n",
       " 'https://i.ytimg.com/vi/TzJGh7h-H9k/default.jpg',\n",
       " 'https://i.ytimg.com/vi/TzJGh7h-H9k/default_live.jpg',\n",
       " 'https://i.ytimg.com/vi/Ywfz9J1NEpI/default.jpg',\n",
       " 'https://i.ytimg.com/vi/Ywfz9J1NEpI/default_live.jpg',\n",
       " 'https://i.ytimg.com/vi/j8dJ9gp_svQ/default.jpg',\n",
       " 'https://i.ytimg.com/vi/j8dJ9gp_svQ/default_live.jpg',\n",
       " 'https://i.ytimg.com/vi/nuJ7jkCZ3i0/default.jpg',\n",
       " 'https://i.ytimg.com/vi/nuJ7jkCZ3i0/default_live.jpg',\n",
       " 'https://i.ytimg.com/vi/oBCmDr_QqPE/default.jpg',\n",
       " 'https://i.ytimg.com/vi/oBCmDr_QqPE/default_live.jpg',\n",
       " 'https://i.ytimg.com/vi/vjBNozL9Daw/default.jpg',\n",
       " 'https://i.ytimg.com/vi/vjBNozL9Daw/default_live.jpg']"
      ]
     },
     "execution_count": 12,
     "metadata": {},
     "output_type": "execute_result"
    }
   ],
   "source": [
    "changes = df[df[\"rank\"] == 1]\n",
    "changes[changes.duplicated(['video_id'], keep=False)].thumbnail_url.to_list()"
   ]
  },
  {
   "cell_type": "code",
   "execution_count": null,
   "metadata": {},
   "outputs": [],
   "source": []
  }
 ],
 "metadata": {
  "interpreter": {
   "hash": "31f2aee4e71d21fbe5cf8b01ff0e069b9275f58929596ceb00d14d90e3e16cd6"
  },
  "kernelspec": {
   "display_name": "Python 3.8.9 64-bit",
   "language": "python",
   "name": "python3"
  },
  "language_info": {
   "codemirror_mode": {
    "name": "ipython",
    "version": 3
   },
   "file_extension": ".py",
   "mimetype": "text/x-python",
   "name": "python",
   "nbconvert_exporter": "python",
   "pygments_lexer": "ipython3",
   "version": "3.8.9"
  },
  "orig_nbformat": 4
 },
 "nbformat": 4,
 "nbformat_minor": 2
}
