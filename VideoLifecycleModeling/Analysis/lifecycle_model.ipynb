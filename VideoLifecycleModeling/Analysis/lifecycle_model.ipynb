{
 "cells": [
  {
   "cell_type": "code",
   "execution_count": 72,
   "metadata": {},
   "outputs": [],
   "source": [
    "import pandas as pd\n",
    "from dotenv import load_dotenv\n",
    "import os\n",
    "\n",
    "from sqlalchemy import create_engine\n",
    "from sqlalchemy import text\n",
    "\n",
    "from matplotlib import pyplot as plt\n",
    "load_dotenv()\n",
    "\n",
    "user = os.environ.get(\"DB_USERNAME\")\n",
    "password = os.environ.get(\"DB_PASSWORD\")\n",
    "hostname = os.environ.get(\"DB_HOST\")\n",
    "database_name =  os.environ.get(\"DB_NAME\")\n",
    "port = os.environ.get(\"DB_PORT\")\n",
    "cluster = os.environ.get(\"DB_CLUSTER\")\n",
    "youtube_api_key = os.environ.get(\"YOUTUBE_API_KEY\")\n",
    "\n",
    "engine = create_engine(f'cockroachdb://{user}:{password}@{hostname}:{port}/{database_name}?sslmode=require&options=--cluster={cluster}')"
   ]
  },
  {
   "cell_type": "code",
   "execution_count": 73,
   "metadata": {},
   "outputs": [],
   "source": [
    "conn = engine.connect()\n",
    "df = pd.read_sql(\"\"\"SELECT vvl.* FROM video_view_lifecycle vvl\n",
    "                    JOIN video_notification_feed vnf ON vvl.video_id = vnf.video_id\n",
    "                    where vnf.record_timestamp > '2022-06-21 07:00:00.00' \n",
    "                    and vnf.video_id in ('ofE31H1hsfc')\n",
    "                    ORDER BY vvl.video_id desc, vvl.record_timestamp asc\"\"\", \n",
    "                conn)"
   ]
  },
  {
   "cell_type": "code",
   "execution_count": 74,
   "metadata": {},
   "outputs": [
    {
     "data": {
      "text/html": [
       "<div>\n",
       "<style scoped>\n",
       "    .dataframe tbody tr th:only-of-type {\n",
       "        vertical-align: middle;\n",
       "    }\n",
       "\n",
       "    .dataframe tbody tr th {\n",
       "        vertical-align: top;\n",
       "    }\n",
       "\n",
       "    .dataframe thead th {\n",
       "        text-align: right;\n",
       "    }\n",
       "</style>\n",
       "<table border=\"1\" class=\"dataframe\">\n",
       "  <thead>\n",
       "    <tr style=\"text-align: right;\">\n",
       "      <th></th>\n",
       "      <th>video_id</th>\n",
       "      <th>video_title</th>\n",
       "      <th>channel_id</th>\n",
       "      <th>channel_name</th>\n",
       "      <th>views</th>\n",
       "      <th>likes</th>\n",
       "      <th>favorites</th>\n",
       "      <th>comment_count</th>\n",
       "      <th>dislikes</th>\n",
       "      <th>video_duration</th>\n",
       "      <th>thumbnail_url</th>\n",
       "      <th>date_uploaded</th>\n",
       "      <th>record_timestamp</th>\n",
       "    </tr>\n",
       "  </thead>\n",
       "  <tbody>\n",
       "    <tr>\n",
       "      <th>0</th>\n",
       "      <td>ofE31H1hsfc</td>\n",
       "      <td>G FUEL Fired Him for Speaking Out</td>\n",
       "      <td>UCjK0F1DopxQ5U0sCwOlXwOg</td>\n",
       "      <td>Mogul Mail</td>\n",
       "      <td>0</td>\n",
       "      <td>90</td>\n",
       "      <td>0</td>\n",
       "      <td>8</td>\n",
       "      <td>-1</td>\n",
       "      <td>PT7M6S</td>\n",
       "      <td>https://i.ytimg.com/vi/ofE31H1hsfc/default.jpg</td>\n",
       "      <td>2022-06-24 00:10:39</td>\n",
       "      <td>2022-06-24 00:11:26.922250</td>\n",
       "    </tr>\n",
       "    <tr>\n",
       "      <th>1</th>\n",
       "      <td>ofE31H1hsfc</td>\n",
       "      <td>G FUEL Fired Him for Speaking Out</td>\n",
       "      <td>UCjK0F1DopxQ5U0sCwOlXwOg</td>\n",
       "      <td>Mogul Mail</td>\n",
       "      <td>0</td>\n",
       "      <td>90</td>\n",
       "      <td>0</td>\n",
       "      <td>8</td>\n",
       "      <td>-1</td>\n",
       "      <td>PT7M6S</td>\n",
       "      <td>https://i.ytimg.com/vi/ofE31H1hsfc/default.jpg</td>\n",
       "      <td>2022-06-24 00:10:39</td>\n",
       "      <td>2022-06-24 00:11:26.922250</td>\n",
       "    </tr>\n",
       "    <tr>\n",
       "      <th>2</th>\n",
       "      <td>ofE31H1hsfc</td>\n",
       "      <td>G FUEL Fired Him for Speaking Out</td>\n",
       "      <td>UCjK0F1DopxQ5U0sCwOlXwOg</td>\n",
       "      <td>Mogul Mail</td>\n",
       "      <td>0</td>\n",
       "      <td>90</td>\n",
       "      <td>0</td>\n",
       "      <td>8</td>\n",
       "      <td>-1</td>\n",
       "      <td>PT7M6S</td>\n",
       "      <td>https://i.ytimg.com/vi/ofE31H1hsfc/default.jpg</td>\n",
       "      <td>2022-06-24 00:10:39</td>\n",
       "      <td>2022-06-24 00:11:26.922250</td>\n",
       "    </tr>\n",
       "    <tr>\n",
       "      <th>3</th>\n",
       "      <td>ofE31H1hsfc</td>\n",
       "      <td>G FUEL Fired Him for Speaking Out</td>\n",
       "      <td>UCjK0F1DopxQ5U0sCwOlXwOg</td>\n",
       "      <td>Mogul Mail</td>\n",
       "      <td>362</td>\n",
       "      <td>161</td>\n",
       "      <td>0</td>\n",
       "      <td>22</td>\n",
       "      <td>-1</td>\n",
       "      <td>PT7M6S</td>\n",
       "      <td>https://i.ytimg.com/vi/ofE31H1hsfc/default.jpg</td>\n",
       "      <td>2022-06-24 00:10:39</td>\n",
       "      <td>2022-06-24 00:12:29.558294</td>\n",
       "    </tr>\n",
       "    <tr>\n",
       "      <th>4</th>\n",
       "      <td>ofE31H1hsfc</td>\n",
       "      <td>G FUEL Fired Him for Speaking Out</td>\n",
       "      <td>UCjK0F1DopxQ5U0sCwOlXwOg</td>\n",
       "      <td>Mogul Mail</td>\n",
       "      <td>362</td>\n",
       "      <td>161</td>\n",
       "      <td>0</td>\n",
       "      <td>22</td>\n",
       "      <td>-1</td>\n",
       "      <td>PT7M6S</td>\n",
       "      <td>https://i.ytimg.com/vi/ofE31H1hsfc/default.jpg</td>\n",
       "      <td>2022-06-24 00:10:39</td>\n",
       "      <td>2022-06-24 00:12:29.558294</td>\n",
       "    </tr>\n",
       "  </tbody>\n",
       "</table>\n",
       "</div>"
      ],
      "text/plain": [
       "      video_id                        video_title                channel_id  \\\n",
       "0  ofE31H1hsfc  G FUEL Fired Him for Speaking Out  UCjK0F1DopxQ5U0sCwOlXwOg   \n",
       "1  ofE31H1hsfc  G FUEL Fired Him for Speaking Out  UCjK0F1DopxQ5U0sCwOlXwOg   \n",
       "2  ofE31H1hsfc  G FUEL Fired Him for Speaking Out  UCjK0F1DopxQ5U0sCwOlXwOg   \n",
       "3  ofE31H1hsfc  G FUEL Fired Him for Speaking Out  UCjK0F1DopxQ5U0sCwOlXwOg   \n",
       "4  ofE31H1hsfc  G FUEL Fired Him for Speaking Out  UCjK0F1DopxQ5U0sCwOlXwOg   \n",
       "\n",
       "  channel_name  views  likes  favorites  comment_count  dislikes  \\\n",
       "0   Mogul Mail      0     90          0              8        -1   \n",
       "1   Mogul Mail      0     90          0              8        -1   \n",
       "2   Mogul Mail      0     90          0              8        -1   \n",
       "3   Mogul Mail    362    161          0             22        -1   \n",
       "4   Mogul Mail    362    161          0             22        -1   \n",
       "\n",
       "  video_duration                                   thumbnail_url  \\\n",
       "0         PT7M6S  https://i.ytimg.com/vi/ofE31H1hsfc/default.jpg   \n",
       "1         PT7M6S  https://i.ytimg.com/vi/ofE31H1hsfc/default.jpg   \n",
       "2         PT7M6S  https://i.ytimg.com/vi/ofE31H1hsfc/default.jpg   \n",
       "3         PT7M6S  https://i.ytimg.com/vi/ofE31H1hsfc/default.jpg   \n",
       "4         PT7M6S  https://i.ytimg.com/vi/ofE31H1hsfc/default.jpg   \n",
       "\n",
       "        date_uploaded           record_timestamp  \n",
       "0 2022-06-24 00:10:39 2022-06-24 00:11:26.922250  \n",
       "1 2022-06-24 00:10:39 2022-06-24 00:11:26.922250  \n",
       "2 2022-06-24 00:10:39 2022-06-24 00:11:26.922250  \n",
       "3 2022-06-24 00:10:39 2022-06-24 00:12:29.558294  \n",
       "4 2022-06-24 00:10:39 2022-06-24 00:12:29.558294  "
      ]
     },
     "execution_count": 74,
     "metadata": {},
     "output_type": "execute_result"
    }
   ],
   "source": [
    "df.head(5)"
   ]
  },
  {
   "cell_type": "code",
   "execution_count": 75,
   "metadata": {},
   "outputs": [
    {
     "name": "stderr",
     "output_type": "stream",
     "text": [
      "/var/folders/0z/7vw3n45915b9fwdtfny4prlh0000gn/T/ipykernel_1205/3742548750.py:5: RuntimeWarning: invalid value encountered in long_scalars\n",
      "  return row[\"views\"] / df[df[\"video_id\"] == row[\"video_id\"]].iloc[0][\"views\"] - 1\n",
      "/var/folders/0z/7vw3n45915b9fwdtfny4prlh0000gn/T/ipykernel_1205/3742548750.py:5: RuntimeWarning: divide by zero encountered in long_scalars\n",
      "  return row[\"views\"] / df[df[\"video_id\"] == row[\"video_id\"]].iloc[0][\"views\"] - 1\n"
     ]
    },
    {
     "data": {
      "text/html": [
       "<div>\n",
       "<style scoped>\n",
       "    .dataframe tbody tr th:only-of-type {\n",
       "        vertical-align: middle;\n",
       "    }\n",
       "\n",
       "    .dataframe tbody tr th {\n",
       "        vertical-align: top;\n",
       "    }\n",
       "\n",
       "    .dataframe thead th {\n",
       "        text-align: right;\n",
       "    }\n",
       "</style>\n",
       "<table border=\"1\" class=\"dataframe\">\n",
       "  <thead>\n",
       "    <tr style=\"text-align: right;\">\n",
       "      <th></th>\n",
       "      <th>video_id</th>\n",
       "      <th>video_title</th>\n",
       "      <th>channel_id</th>\n",
       "      <th>channel_name</th>\n",
       "      <th>views</th>\n",
       "      <th>likes</th>\n",
       "      <th>favorites</th>\n",
       "      <th>comment_count</th>\n",
       "      <th>dislikes</th>\n",
       "      <th>video_duration</th>\n",
       "      <th>thumbnail_url</th>\n",
       "      <th>date_uploaded</th>\n",
       "      <th>record_timestamp</th>\n",
       "      <th>time_delta</th>\n",
       "      <th>view_delta</th>\n",
       "      <th>view_percentage_delta</th>\n",
       "    </tr>\n",
       "  </thead>\n",
       "  <tbody>\n",
       "    <tr>\n",
       "      <th>0</th>\n",
       "      <td>ofE31H1hsfc</td>\n",
       "      <td>G FUEL Fired Him for Speaking Out</td>\n",
       "      <td>UCjK0F1DopxQ5U0sCwOlXwOg</td>\n",
       "      <td>Mogul Mail</td>\n",
       "      <td>0</td>\n",
       "      <td>90</td>\n",
       "      <td>0</td>\n",
       "      <td>8</td>\n",
       "      <td>-1</td>\n",
       "      <td>PT7M6S</td>\n",
       "      <td>https://i.ytimg.com/vi/ofE31H1hsfc/default.jpg</td>\n",
       "      <td>2022-06-24 00:10:39</td>\n",
       "      <td>2022-06-24 00:11:26.922250</td>\n",
       "      <td>0.798704</td>\n",
       "      <td>0.0</td>\n",
       "      <td>NaN</td>\n",
       "    </tr>\n",
       "    <tr>\n",
       "      <th>3</th>\n",
       "      <td>ofE31H1hsfc</td>\n",
       "      <td>G FUEL Fired Him for Speaking Out</td>\n",
       "      <td>UCjK0F1DopxQ5U0sCwOlXwOg</td>\n",
       "      <td>Mogul Mail</td>\n",
       "      <td>362</td>\n",
       "      <td>161</td>\n",
       "      <td>0</td>\n",
       "      <td>22</td>\n",
       "      <td>-1</td>\n",
       "      <td>PT7M6S</td>\n",
       "      <td>https://i.ytimg.com/vi/ofE31H1hsfc/default.jpg</td>\n",
       "      <td>2022-06-24 00:10:39</td>\n",
       "      <td>2022-06-24 00:12:29.558294</td>\n",
       "      <td>1.842638</td>\n",
       "      <td>362.0</td>\n",
       "      <td>inf</td>\n",
       "    </tr>\n",
       "    <tr>\n",
       "      <th>6</th>\n",
       "      <td>ofE31H1hsfc</td>\n",
       "      <td>G FUEL Fired Him for Speaking Out</td>\n",
       "      <td>UCjK0F1DopxQ5U0sCwOlXwOg</td>\n",
       "      <td>Mogul Mail</td>\n",
       "      <td>772</td>\n",
       "      <td>241</td>\n",
       "      <td>0</td>\n",
       "      <td>29</td>\n",
       "      <td>-1</td>\n",
       "      <td>PT7M6S</td>\n",
       "      <td>https://i.ytimg.com/vi/ofE31H1hsfc/default.jpg</td>\n",
       "      <td>2022-06-24 00:10:39</td>\n",
       "      <td>2022-06-24 00:13:30.592574</td>\n",
       "      <td>2.859876</td>\n",
       "      <td>410.0</td>\n",
       "      <td>inf</td>\n",
       "    </tr>\n",
       "  </tbody>\n",
       "</table>\n",
       "</div>"
      ],
      "text/plain": [
       "      video_id                        video_title                channel_id  \\\n",
       "0  ofE31H1hsfc  G FUEL Fired Him for Speaking Out  UCjK0F1DopxQ5U0sCwOlXwOg   \n",
       "3  ofE31H1hsfc  G FUEL Fired Him for Speaking Out  UCjK0F1DopxQ5U0sCwOlXwOg   \n",
       "6  ofE31H1hsfc  G FUEL Fired Him for Speaking Out  UCjK0F1DopxQ5U0sCwOlXwOg   \n",
       "\n",
       "  channel_name  views  likes  favorites  comment_count  dislikes  \\\n",
       "0   Mogul Mail      0     90          0              8        -1   \n",
       "3   Mogul Mail    362    161          0             22        -1   \n",
       "6   Mogul Mail    772    241          0             29        -1   \n",
       "\n",
       "  video_duration                                   thumbnail_url  \\\n",
       "0         PT7M6S  https://i.ytimg.com/vi/ofE31H1hsfc/default.jpg   \n",
       "3         PT7M6S  https://i.ytimg.com/vi/ofE31H1hsfc/default.jpg   \n",
       "6         PT7M6S  https://i.ytimg.com/vi/ofE31H1hsfc/default.jpg   \n",
       "\n",
       "        date_uploaded           record_timestamp  time_delta  view_delta  \\\n",
       "0 2022-06-24 00:10:39 2022-06-24 00:11:26.922250    0.798704         0.0   \n",
       "3 2022-06-24 00:10:39 2022-06-24 00:12:29.558294    1.842638       362.0   \n",
       "6 2022-06-24 00:10:39 2022-06-24 00:13:30.592574    2.859876       410.0   \n",
       "\n",
       "   view_percentage_delta  \n",
       "0                    NaN  \n",
       "3                    inf  \n",
       "6                    inf  "
      ]
     },
     "execution_count": 75,
     "metadata": {},
     "output_type": "execute_result"
    }
   ],
   "source": [
    "def calc_timedetlas(row):\n",
    "    return pd.Timedelta(row[\"record_timestamp\"] - df[df[\"video_id\"] == row[\"video_id\"]].iloc[0][\"date_uploaded\"], unit='seconds').total_seconds() / 60\n",
    "\n",
    "def calc_percentage_deltas(row):\n",
    "    return row[\"views\"] / df[df[\"video_id\"] == row[\"video_id\"]].iloc[0][\"views\"] - 1\n",
    "\n",
    "df[\"time_delta\"] = df.apply(calc_timedetlas, axis=1)\n",
    "df[\"view_delta\"] = df.groupby(['video_id'])['views'].diff().fillna(0)\n",
    "df[\"view_percentage_delta\"] = df.apply(calc_percentage_deltas, axis=1)\n",
    "df = df.drop_duplicates(subset=['time_delta'])\n",
    "\n",
    "df.head(3)"
   ]
  },
  {
   "cell_type": "code",
   "execution_count": 76,
   "metadata": {},
   "outputs": [],
   "source": [
    "# channel_ids = ['UCq6VFHwMzcMXbuKyG7SQYIg', 'UCz6XquIbM5OcfK7r3hQQCXA']\n",
    "# channel_df = df[df[\"channel_id\"].isin(channel_ids)]\n",
    "# channel_df['video_id'].nunique()\n",
    "# channel_df[channel_df['video_id']=='qb4jMvGdOTw']\n"
   ]
  },
  {
   "cell_type": "code",
   "execution_count": 77,
   "metadata": {},
   "outputs": [
    {
     "data": {
      "image/png": "[encoded data removed]",
      "text/plain": [
       "<Figure size 432x288 with 1 Axes>"
      ]
     },
     "metadata": {
      "needs_background": "light"
     },
     "output_type": "display_data"
    }
   ],
   "source": [
    "for video_id in set(df['video_id'].to_list()):\n",
    "    video_df = df[df[\"video_id\"] == video_id]\n",
    "    video_df = video_df[video_df['time_delta'] < 60 * 12]\n",
    "    video_df = video_df[video_df['view_delta'] > 0]\n",
    "    plt.plot(video_df.time_delta, video_df.view_delta, label=video_id)\n",
    "plt.legend(bbox_to_anchor=(-.15,.8))\n",
    "plt.show()\n"
   ]
  },
  {
   "cell_type": "code",
   "execution_count": 78,
   "metadata": {},
   "outputs": [
    {
     "data": {
      "image/png": "[encoded data removed]",
      "text/plain": [
       "<Figure size 432x288 with 1 Axes>"
      ]
     },
     "metadata": {
      "needs_background": "light"
     },
     "output_type": "display_data"
    }
   ],
   "source": [
    "for video_id in set(df['video_id'].to_list()):\n",
    "    video_df = df[df[\"video_id\"] == video_id]\n",
    "    video_df = video_df[video_df['time_delta'] < 2500]\n",
    "    plt.scatter(video_df.time_delta, video_df.views, label=video_id)\n",
    "plt.legend(bbox_to_anchor=(-.15,.8))\n",
    "plt.show()"
   ]
  },
  {
   "cell_type": "code",
   "execution_count": 82,
   "metadata": {},
   "outputs": [
    {
     "name": "stdout",
     "output_type": "stream",
     "text": [
      "R squared value of 0.9906750513304802 from fitted curve\n"
     ]
    },
    {
     "data": {
      "image/png": "[encoded data removed]",
      "text/plain": [
       "<Figure size 432x288 with 1 Axes>"
      ]
     },
     "metadata": {
      "needs_background": "light"
     },
     "output_type": "display_data"
    }
   ],
   "source": [
    "from scipy.optimize import curve_fit\n",
    "import numpy as np\n",
    "\n",
    "def predict(x, a, b, c):\n",
    "    return a * x ** c  / (x ** c + b)\n",
    "\n",
    "for i in range(1, df.time_delta.to_list()):\n",
    "    x_data = df.time_delta.to_list()[:i]\n",
    "    y_data = df.views.to_list()[:i]\n",
    "    param, param_cov = curve_fit(predict, x_data, y_data)\n",
    "\n",
    "    y_pred = predict(df.time_delta, *param)\n",
    "    residuals = residuals = df.views- predict(df.time_delta, *param)\n",
    "    ss_res = np.sum(residuals**2)\n",
    "    ss_tot = np.sum((df.views-np.mean(df.views))**2)\n",
    "    r_squared = 1 - (ss_res / ss_tot)\n",
    "\n",
    "    print(f\"R squared value of {r_squared} from fitted curve\")\n",
    "\n",
    "    plt.scatter(video_df.time_delta, video_df.views, label=video_id)\n",
    "    plt.scatter(df.time_delta, y_pred, label=video_id)\n",
    "    plt.show()\n",
    "\n"
   ]
  },
  {
   "cell_type": "code",
   "execution_count": 83,
   "metadata": {},
   "outputs": [
    {
     "data": {
      "text/plain": [
       "array([7.44138235e+05, 3.44398792e+02, 7.54550932e-01])"
      ]
     },
     "execution_count": 83,
     "metadata": {},
     "output_type": "execute_result"
    }
   ],
   "source": [
    "param"
   ]
  },
  {
   "cell_type": "code",
   "execution_count": null,
   "metadata": {},
   "outputs": [],
   "source": []
  }
 ],
 "metadata": {
  "interpreter": {
   "hash": "31f2aee4e71d21fbe5cf8b01ff0e069b9275f58929596ceb00d14d90e3e16cd6"
  },
  "kernelspec": {
   "display_name": "Python 3.8.9 64-bit",
   "language": "python",
   "name": "python3"
  },
  "language_info": {
   "codemirror_mode": {
    "name": "ipython",
    "version": 3
   },
   "file_extension": ".py",
   "mimetype": "text/x-python",
   "name": "python",
   "nbconvert_exporter": "python",
   "pygments_lexer": "ipython3",
   "version": "3.8.9"
  },
  "orig_nbformat": 4
 },
 "nbformat": 4,
 "nbformat_minor": 2
}
