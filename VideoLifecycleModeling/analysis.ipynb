{
 "cells": [
  {
   "cell_type": "code",
   "execution_count": 1,
   "metadata": {},
   "outputs": [],
   "source": [
    "import pandas as pd\n",
    "from dotenv import load_dotenv\n",
    "import os\n",
    "\n",
    "from sqlalchemy import create_engine\n",
    "from sqlalchemy import text\n",
    "\n",
    "load_dotenv()\n",
    "\n",
    "user = os.environ.get(\"DB_USERNAME\")\n",
    "password = os.environ.get(\"DB_PASSWORD\")\n",
    "hostname = os.environ.get(\"DB_HOST\")\n",
    "database_name =  os.environ.get(\"DB_NAME\")\n",
    "port = os.environ.get(\"DB_PORT\")\n",
    "cluster = os.environ.get(\"DB_CLUSTER\")\n",
    "youtube_api_key = os.environ.get(\"YOUTUBE_API_KEY\")\n",
    "\n",
    "engine = create_engine(f'cockroachdb://{user}:{password}@{hostname}:{port}/{database_name}?sslmode=require&options=--cluster={cluster}')"
   ]
  },
  {
   "cell_type": "code",
   "execution_count": 82,
   "metadata": {},
   "outputs": [],
   "source": [
    "conn = engine.connect()\n",
    "df = pd.read_sql(\"\"\"SELECT vvl.* FROM video_view_lifecycle vvl\n",
    "                    JOIN video_notification_feed vnf ON vvl.video_id = vnf.video_id\n",
    "                    where vnf.record_timestamp > '2022-06-21 07:00:00.00' \n",
    "                    ORDER BY vvl.record_timestamp asc\"\"\", \n",
    "                conn)"
   ]
  },
  {
   "cell_type": "code",
   "execution_count": 83,
   "metadata": {},
   "outputs": [
    {
     "data": {
      "text/html": [
       "<div>\n",
       "<style scoped>\n",
       "    .dataframe tbody tr th:only-of-type {\n",
       "        vertical-align: middle;\n",
       "    }\n",
       "\n",
       "    .dataframe tbody tr th {\n",
       "        vertical-align: top;\n",
       "    }\n",
       "\n",
       "    .dataframe thead th {\n",
       "        text-align: right;\n",
       "    }\n",
       "</style>\n",
       "<table border=\"1\" class=\"dataframe\">\n",
       "  <thead>\n",
       "    <tr style=\"text-align: right;\">\n",
       "      <th></th>\n",
       "      <th>video_id</th>\n",
       "      <th>video_title</th>\n",
       "      <th>channel_id</th>\n",
       "      <th>channel_name</th>\n",
       "      <th>views</th>\n",
       "      <th>likes</th>\n",
       "      <th>favorites</th>\n",
       "      <th>comment_count</th>\n",
       "      <th>dislikes</th>\n",
       "      <th>video_duration</th>\n",
       "      <th>thumbnail_url</th>\n",
       "      <th>date_uploaded</th>\n",
       "      <th>record_timestamp</th>\n",
       "      <th>time_delta</th>\n",
       "      <th>view_delta</th>\n",
       "    </tr>\n",
       "  </thead>\n",
       "  <tbody>\n",
       "    <tr>\n",
       "      <th>0</th>\n",
       "      <td>FnWjFJdAP_8</td>\n",
       "      <td>\"I could beat Dream in a fight\"</td>\n",
       "      <td>UCz6XquIbM5OcfK7r3hQQCXA</td>\n",
       "      <td>Ludwin Clips</td>\n",
       "      <td>123</td>\n",
       "      <td>19</td>\n",
       "      <td>0</td>\n",
       "      <td>3</td>\n",
       "      <td>-1</td>\n",
       "      <td>PT41S</td>\n",
       "      <td>https://i.ytimg.com/vi/FnWjFJdAP_8/default.jpg</td>\n",
       "      <td>2022-06-21 08:55:22</td>\n",
       "      <td>2022-06-21 09:00:31.692548</td>\n",
       "      <td>5.161542</td>\n",
       "      <td>0</td>\n",
       "    </tr>\n",
       "    <tr>\n",
       "      <th>1</th>\n",
       "      <td>FnWjFJdAP_8</td>\n",
       "      <td>\"I could beat Dream in a fight\"</td>\n",
       "      <td>UCz6XquIbM5OcfK7r3hQQCXA</td>\n",
       "      <td>Ludwin Clips</td>\n",
       "      <td>159</td>\n",
       "      <td>25</td>\n",
       "      <td>0</td>\n",
       "      <td>3</td>\n",
       "      <td>-1</td>\n",
       "      <td>PT41S</td>\n",
       "      <td>https://i.ytimg.com/vi/FnWjFJdAP_8/default.jpg</td>\n",
       "      <td>2022-06-21 08:55:22</td>\n",
       "      <td>2022-06-21 09:01:32.718541</td>\n",
       "      <td>6.178642</td>\n",
       "      <td>36</td>\n",
       "    </tr>\n",
       "    <tr>\n",
       "      <th>2</th>\n",
       "      <td>FnWjFJdAP_8</td>\n",
       "      <td>\"I could beat Dream in a fight\"</td>\n",
       "      <td>UCz6XquIbM5OcfK7r3hQQCXA</td>\n",
       "      <td>Ludwin Clips</td>\n",
       "      <td>196</td>\n",
       "      <td>27</td>\n",
       "      <td>0</td>\n",
       "      <td>3</td>\n",
       "      <td>-1</td>\n",
       "      <td>PT41S</td>\n",
       "      <td>https://i.ytimg.com/vi/FnWjFJdAP_8/default.jpg</td>\n",
       "      <td>2022-06-21 08:55:22</td>\n",
       "      <td>2022-06-21 09:02:33.740297</td>\n",
       "      <td>7.195672</td>\n",
       "      <td>73</td>\n",
       "    </tr>\n",
       "    <tr>\n",
       "      <th>3</th>\n",
       "      <td>FnWjFJdAP_8</td>\n",
       "      <td>\"I could beat Dream in a fight\"</td>\n",
       "      <td>UCz6XquIbM5OcfK7r3hQQCXA</td>\n",
       "      <td>Ludwin Clips</td>\n",
       "      <td>240</td>\n",
       "      <td>32</td>\n",
       "      <td>0</td>\n",
       "      <td>3</td>\n",
       "      <td>-1</td>\n",
       "      <td>PT41S</td>\n",
       "      <td>https://i.ytimg.com/vi/FnWjFJdAP_8/default.jpg</td>\n",
       "      <td>2022-06-21 08:55:22</td>\n",
       "      <td>2022-06-21 09:03:34.766279</td>\n",
       "      <td>8.212771</td>\n",
       "      <td>117</td>\n",
       "    </tr>\n",
       "    <tr>\n",
       "      <th>4</th>\n",
       "      <td>FnWjFJdAP_8</td>\n",
       "      <td>\"I could beat Dream in a fight\"</td>\n",
       "      <td>UCz6XquIbM5OcfK7r3hQQCXA</td>\n",
       "      <td>Ludwin Clips</td>\n",
       "      <td>271</td>\n",
       "      <td>35</td>\n",
       "      <td>0</td>\n",
       "      <td>4</td>\n",
       "      <td>-1</td>\n",
       "      <td>PT41S</td>\n",
       "      <td>https://i.ytimg.com/vi/FnWjFJdAP_8/default.jpg</td>\n",
       "      <td>2022-06-21 08:55:22</td>\n",
       "      <td>2022-06-21 09:04:35.833048</td>\n",
       "      <td>9.230551</td>\n",
       "      <td>148</td>\n",
       "    </tr>\n",
       "  </tbody>\n",
       "</table>\n",
       "</div>"
      ],
      "text/plain": [
       "      video_id                      video_title                channel_id  \\\n",
       "0  FnWjFJdAP_8  \"I could beat Dream in a fight\"  UCz6XquIbM5OcfK7r3hQQCXA   \n",
       "1  FnWjFJdAP_8  \"I could beat Dream in a fight\"  UCz6XquIbM5OcfK7r3hQQCXA   \n",
       "2  FnWjFJdAP_8  \"I could beat Dream in a fight\"  UCz6XquIbM5OcfK7r3hQQCXA   \n",
       "3  FnWjFJdAP_8  \"I could beat Dream in a fight\"  UCz6XquIbM5OcfK7r3hQQCXA   \n",
       "4  FnWjFJdAP_8  \"I could beat Dream in a fight\"  UCz6XquIbM5OcfK7r3hQQCXA   \n",
       "\n",
       "   channel_name  views  likes  favorites  comment_count  dislikes  \\\n",
       "0  Ludwin Clips    123     19          0              3        -1   \n",
       "1  Ludwin Clips    159     25          0              3        -1   \n",
       "2  Ludwin Clips    196     27          0              3        -1   \n",
       "3  Ludwin Clips    240     32          0              3        -1   \n",
       "4  Ludwin Clips    271     35          0              4        -1   \n",
       "\n",
       "  video_duration                                   thumbnail_url  \\\n",
       "0          PT41S  https://i.ytimg.com/vi/FnWjFJdAP_8/default.jpg   \n",
       "1          PT41S  https://i.ytimg.com/vi/FnWjFJdAP_8/default.jpg   \n",
       "2          PT41S  https://i.ytimg.com/vi/FnWjFJdAP_8/default.jpg   \n",
       "3          PT41S  https://i.ytimg.com/vi/FnWjFJdAP_8/default.jpg   \n",
       "4          PT41S  https://i.ytimg.com/vi/FnWjFJdAP_8/default.jpg   \n",
       "\n",
       "        date_uploaded           record_timestamp  time_delta  view_delta  \n",
       "0 2022-06-21 08:55:22 2022-06-21 09:00:31.692548    5.161542           0  \n",
       "1 2022-06-21 08:55:22 2022-06-21 09:01:32.718541    6.178642          36  \n",
       "2 2022-06-21 08:55:22 2022-06-21 09:02:33.740297    7.195672          73  \n",
       "3 2022-06-21 08:55:22 2022-06-21 09:03:34.766279    8.212771         117  \n",
       "4 2022-06-21 08:55:22 2022-06-21 09:04:35.833048    9.230551         148  "
      ]
     },
     "execution_count": 83,
     "metadata": {},
     "output_type": "execute_result"
    }
   ],
   "source": [
    "def calc_timedetlas(row):\n",
    "    return pd.Timedelta(row[\"record_timestamp\"] - df[df[\"video_id\"] == row[\"video_id\"]].iloc[0][\"date_uploaded\"], unit='seconds').total_seconds() / 60\n",
    "\n",
    "def cal_viewdeltas(row):\n",
    "    return row[\"views\"] - df[df[\"video_id\"] == row[\"video_id\"]].iloc[0][\"views\"]\n",
    "\n",
    "df[\"time_delta\"] = df.apply(calc_timedetlas, axis=1)\n",
    "df[\"view_delta\"] = df.apply(cal_viewdeltas, axis=1)\n",
    "df.head()"
   ]
  },
  {
   "cell_type": "code",
   "execution_count": 84,
   "metadata": {},
   "outputs": [
    {
     "data": {
      "text/plain": [
       "1"
      ]
     },
     "execution_count": 84,
     "metadata": {},
     "output_type": "execute_result"
    }
   ],
   "source": [
    "channel_id = 'UCq6VFHwMzcMXbuKyG7SQYIg'\n",
    "channel_df = df[df[\"channel_id\"] == channel_id]\n",
    "video_ids = set(channel_df[\"video_id\"].to_list())\n",
    "timedelta_cutoff_minutes = 60\n",
    "\n",
    "video_ids = [\"mrkAmmMakMg\"]\n",
    "video_data = {}\n",
    "for video_id in video_ids:\n",
    "    single_vid_df = df[df[\"video_id\"] == video_id][[\"time_delta\", \"views\"]]\n",
    "    single_vid_df = single_vid_df[single_vid_df[\"time_delta\"] < 60]\n",
    "    video_name = df[df[\"video_id\"] == video_id][[\"video_title\"]].iloc[0].iloc[0]\n",
    "    video_data[video_name] = single_vid_df\n",
    "\n",
    "len(video_data)\n"
   ]
  },
  {
   "cell_type": "code",
   "execution_count": 85,
   "metadata": {},
   "outputs": [],
   "source": [
    "X = video_data['The Nothing Phone LOOKS Different'][\"time_delta\"].to_numpy().reshape(-1, 1)\n",
    "y = video_data['The Nothing Phone LOOKS Different'][\"views\"].to_numpy()"
   ]
  },
  {
   "cell_type": "code",
   "execution_count": 86,
   "metadata": {},
   "outputs": [
    {
     "name": "stdout",
     "output_type": "stream",
     "text": [
      "model_coef: [6753.35107928], model_int: -10177.236569729605\n"
     ]
    }
   ],
   "source": [
    "from sklearn.linear_model import LinearRegression\n",
    "model = LinearRegression(fit_intercept=True)\n",
    "model.fit(X, y)\n",
    "print(f\"model_coef: {model.coef_}, model_int: {model.intercept_}\")"
   ]
  },
  {
   "cell_type": "code",
   "execution_count": 88,
   "metadata": {},
   "outputs": [
    {
     "data": {
      "image/png": "[encoded data removed]",
      "text/plain": [
       "<Figure size 432x288 with 1 Axes>"
      ]
     },
     "metadata": {
      "needs_background": "light"
     },
     "output_type": "display_data"
    }
   ],
   "source": [
    "import matplotlib.pyplot as plt\n",
    "\n",
    "for video_title, df in video_data.items():\n",
    "    plt.plot(df.time_delta, df.views, label=video_title)\n",
    "plt.plot(X, model.predict(X))\n",
    "plt.legend()\n",
    "plt.show()"
   ]
  },
  {
   "cell_type": "code",
   "execution_count": 89,
   "metadata": {},
   "outputs": [],
   "source": [
    "conn.close()"
   ]
  },
  {
   "cell_type": "code",
   "execution_count": 90,
   "metadata": {},
   "outputs": [
    {
     "data": {
      "text/plain": [
       "0.9991883945564636"
      ]
     },
     "execution_count": 90,
     "metadata": {},
     "output_type": "execute_result"
    }
   ],
   "source": [
    "model.score(X, y)"
   ]
  },
  {
   "cell_type": "code",
   "execution_count": null,
   "metadata": {},
   "outputs": [],
   "source": []
  }
 ],
 "metadata": {
  "interpreter": {
   "hash": "fef020bf3fa036810918cf367d0027c9a9998bee2d0e3089cd3bcaaea841b1e3"
  },
  "kernelspec": {
   "display_name": "Python 3.8.9 ('env': venv)",
   "language": "python",
   "name": "python3"
  },
  "language_info": {
   "codemirror_mode": {
    "name": "ipython",
    "version": 3
   },
   "file_extension": ".py",
   "mimetype": "text/x-python",
   "name": "python",
   "nbconvert_exporter": "python",
   "pygments_lexer": "ipython3",
   "version": "3.8.9"
  },
  "orig_nbformat": 4
 },
 "nbformat": 4,
 "nbformat_minor": 2
}
